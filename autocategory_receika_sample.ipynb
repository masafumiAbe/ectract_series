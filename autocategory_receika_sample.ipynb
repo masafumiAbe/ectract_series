{
 "cells": [
  {
   "cell_type": "markdown",
   "metadata": {},
   "source": [
    "### レシーカカテゴリ自動分類用バッチ CSVファイル対応版\n",
    "- 更新日・更新者　2021年6日17日　西澤\n",
    "\n",
    "#### フォルダ構成<br>\n",
    "- 同階層\n",
    "    - autocategory_receika_pluszero.ipynb   (本プログラム)  \n",
    "    - data\n",
    "        - 自動分類マスタ.csv\n",
    "        - 自動分類正解カテゴリデータ.csv\n",
    "    - model\n",
    "        - make_model_20210518.ipynb\n",
    "        - learning_text.txt\n",
    "        - model_daily_300dim_20210518.bin\n",
    "\n",
    "#### 実行環境\n",
    "- 実行環境（CCCMK内）に関して\n",
    "DB: postgresql <br>\n",
    "実行環境 OS: Ubuntu (linux) <br>\n",
    "\n",
    "\n",
    "- CCCMK内でのpython実行環境 <br>\n",
    "  python 3.7.6<br>\n",
    "  pandas 1.1.0<br>\n",
    "  fasttext 0.9.2<br>\n",
    "  numpy 1.18.1<br>\n",
    "\n",
    "#### プログラム概要\n",
    "1. 履歴データから、自動分類マスタを作成　（※POCではこちらは作成済みです。）\n",
    "1. 自動分類マスタの商品名をベクトル化\n",
    "1. 分類対象のリストを読み込む\n",
    "1. 分類対象の商品名をベクトル化し、自動分類マスタのベクトルと内積\n",
    "1. 分類対象と業態が一致し、スコアが最高のデータをカテゴリの正解データとする\n",
    "1. 結果を出力\n",
    "\n",
    "\n",
    "#### 自動分類正解データ.csv のデータ加工方法<br>\n",
    "\n",
    "receika_dd (履歴)に対して、<br>\n",
    "1. JANコードがある商品は、JANコードに基づくカテゴリの付与 <br>\n",
    "1. common_syohin_nm_categories <br>\n",
    "1. common_food_syohin_nm_categories <br>\n",
    "1. 個チェーン用のカテゴリ補正テーブル <br> \n",
    "にて、カテゴリを付与したデータ <br>\n",
    "\n",
    "\n",
    "#### 自動分類の処理対象<br>\n",
    "自動分類マスタ.csv auto_saibunrui_cd が空のレコード　<br>\n",
    "→　自動分類の処理の結果を、auto_saibunrui_cd に格納します。　<br>\n",
    "   (こちらは、新規で登録される商品名がauto_saibunrui_cd が空で登録されています。)"
   ]
  },
  {
   "cell_type": "code",
   "execution_count": 5,
   "metadata": {
    "collapsed": false,
    "jupyter": {
     "outputs_hidden": false
    }
   },
   "outputs": [],
   "source": [
    "# -*- coding: utf-8 -*-\n",
    "import os\n",
    "import fasttext\n",
    "import numpy as np\n",
    "import pandas as pd\n",
    "import re \n",
    "import unicodedata\n",
    "import gc\n",
    "import os\n",
    "import sys\n",
    "import math"
   ]
  },
  {
   "cell_type": "markdown",
   "metadata": {},
   "source": [
    "#### テキスト変換の関数　（全角化）"
   ]
  },
  {
   "cell_type": "code",
   "execution_count": 20,
   "metadata": {},
   "outputs": [],
   "source": [
    "HAN_UPPER = re.compile(u\"[A-Z]\")\n",
    "HAN_LOWER = re.compile(u\"[a-z]\")\n",
    "\n",
    "def han2zen(word):\n",
    "    word = HAN_UPPER.sub(lambda m: chr(ord(u\"Ａ\") + ord(m.group(0)) - ord(\"A\")), word)\n",
    "    word = HAN_LOWER.sub(lambda m: chr(ord(u\"ａ\") + ord(m.group(0)) - ord(\"a\")), word)\n",
    "    return word"
   ]
  },
  {
   "cell_type": "markdown",
   "metadata": {},
   "source": [
    "#### fasttext のモデル読み込みとワードのベクトル化・配列への格納"
   ]
  },
  {
   "cell_type": "code",
   "execution_count": 244,
   "metadata": {},
   "outputs": [
    {
     "data": {
      "text/html": [
       "<div>\n",
       "<style scoped>\n",
       "    .dataframe tbody tr th:only-of-type {\n",
       "        vertical-align: middle;\n",
       "    }\n",
       "\n",
       "    .dataframe tbody tr th {\n",
       "        vertical-align: top;\n",
       "    }\n",
       "\n",
       "    .dataframe thead th {\n",
       "        text-align: right;\n",
       "    }\n",
       "</style>\n",
       "<table border=\"1\" class=\"dataframe\">\n",
       "  <thead>\n",
       "    <tr style=\"text-align: right;\">\n",
       "      <th></th>\n",
       "      <th>id</th>\n",
       "      <th>syohin_nm</th>\n",
       "      <th>saibunrui_cd</th>\n",
       "      <th>gyotai_dai_cd</th>\n",
       "      <th>tanka</th>\n",
       "      <th>count</th>\n",
       "    </tr>\n",
       "  </thead>\n",
       "  <tbody>\n",
       "    <tr>\n",
       "      <th>0</th>\n",
       "      <td>1</td>\n",
       "      <td>∥∥lillii瞳騙一i</td>\n",
       "      <td>9999990</td>\n",
       "      <td>A001</td>\n",
       "      <td>10246</td>\n",
       "      <td>1</td>\n",
       "    </tr>\n",
       "    <tr>\n",
       "      <th>1</th>\n",
       "      <td>2</td>\n",
       "      <td>－196度Cストロングゼロダブルレモン 350ml</td>\n",
       "      <td>140671</td>\n",
       "      <td>A001</td>\n",
       "      <td>98</td>\n",
       "      <td>8095</td>\n",
       "    </tr>\n",
       "    <tr>\n",
       "      <th>2</th>\n",
       "      <td>3</td>\n",
       "      <td>⑤202001ス'ツキー￣</td>\n",
       "      <td>9999990</td>\n",
       "      <td>A001</td>\n",
       "      <td>98</td>\n",
       "      <td>1</td>\n",
       "    </tr>\n",
       "    <tr>\n",
       "      <th>3</th>\n",
       "      <td>4</td>\n",
       "      <td>－１９６ストロングゼシャキッと！青りんご５００ｍｌ</td>\n",
       "      <td>140671</td>\n",
       "      <td>A001</td>\n",
       "      <td>105</td>\n",
       "      <td>3</td>\n",
       "    </tr>\n",
       "    <tr>\n",
       "      <th>4</th>\n",
       "      <td>5</td>\n",
       "      <td>－１９６度Ｃ　ロックスタイル　グレープ　３００ｍｌ</td>\n",
       "      <td>140681</td>\n",
       "      <td>A001</td>\n",
       "      <td>353</td>\n",
       "      <td>1</td>\n",
       "    </tr>\n",
       "    <tr>\n",
       "      <th>...</th>\n",
       "      <td>...</td>\n",
       "      <td>...</td>\n",
       "      <td>...</td>\n",
       "      <td>...</td>\n",
       "      <td>...</td>\n",
       "      <td>...</td>\n",
       "    </tr>\n",
       "    <tr>\n",
       "      <th>755536</th>\n",
       "      <td>755537</td>\n",
       "      <td>椙ボロネーゼR</td>\n",
       "      <td>850104</td>\n",
       "      <td>A013</td>\n",
       "      <td>1300</td>\n",
       "      <td>1</td>\n",
       "    </tr>\n",
       "    <tr>\n",
       "      <th>755537</th>\n",
       "      <td>755538</td>\n",
       "      <td>淡麗</td>\n",
       "      <td>140691</td>\n",
       "      <td>A013</td>\n",
       "      <td>180</td>\n",
       "      <td>1</td>\n",
       "    </tr>\n",
       "    <tr>\n",
       "      <th>755538</th>\n",
       "      <td>755539</td>\n",
       "      <td>炭火焼テキテIJ</td>\n",
       "      <td>850104</td>\n",
       "      <td>A013</td>\n",
       "      <td>1508</td>\n",
       "      <td>1</td>\n",
       "    </tr>\n",
       "    <tr>\n",
       "      <th>755539</th>\n",
       "      <td>755540</td>\n",
       "      <td>炭火焼テキテリ</td>\n",
       "      <td>850104</td>\n",
       "      <td>A013</td>\n",
       "      <td>1750</td>\n",
       "      <td>1</td>\n",
       "    </tr>\n",
       "    <tr>\n",
       "      <th>755540</th>\n",
       "      <td>755541</td>\n",
       "      <td>炭火燐チキテリ</td>\n",
       "      <td>850104</td>\n",
       "      <td>A013</td>\n",
       "      <td>3830</td>\n",
       "      <td>1</td>\n",
       "    </tr>\n",
       "  </tbody>\n",
       "</table>\n",
       "<p>755541 rows × 6 columns</p>\n",
       "</div>"
      ],
      "text/plain": [
       "            id                  syohin_nm  saibunrui_cd gyotai_dai_cd  tanka  \\\n",
       "0            1               ∥∥lillii瞳騙一i       9999990          A001  10246   \n",
       "1            2  －196度Cストロングゼロダブルレモン 350ml        140671          A001     98   \n",
       "2            3              ⑤202001ス'ツキー￣       9999990          A001     98   \n",
       "3            4  －１９６ストロングゼシャキッと！青りんご５００ｍｌ        140671          A001    105   \n",
       "4            5  －１９６度Ｃ　ロックスタイル　グレープ　３００ｍｌ        140681          A001    353   \n",
       "...        ...                        ...           ...           ...    ...   \n",
       "755536  755537                    椙ボロネーゼR        850104          A013   1300   \n",
       "755537  755538                         淡麗        140691          A013    180   \n",
       "755538  755539                   炭火焼テキテIJ        850104          A013   1508   \n",
       "755539  755540                    炭火焼テキテリ        850104          A013   1750   \n",
       "755540  755541                    炭火燐チキテリ        850104          A013   3830   \n",
       "\n",
       "        count  \n",
       "0           1  \n",
       "1        8095  \n",
       "2           1  \n",
       "3           3  \n",
       "4           1  \n",
       "...       ...  \n",
       "755536      1  \n",
       "755537      1  \n",
       "755538      1  \n",
       "755539      1  \n",
       "755540      1  \n",
       "\n",
       "[755541 rows x 6 columns]"
      ]
     },
     "execution_count": 244,
     "metadata": {},
     "output_type": "execute_result"
    }
   ],
   "source": [
    "te_df"
   ]
  },
  {
   "cell_type": "code",
   "execution_count": 243,
   "metadata": {
    "collapsed": false,
    "jupyter": {
     "outputs_hidden": false
    }
   },
   "outputs": [
    {
     "name": "stderr",
     "output_type": "stream",
     "text": [
      "Warning : `load_model` does not return WordVectorModel or SupervisedModel any more, but a `FastText` object which is very similar.\n"
     ]
    },
    {
     "ename": "KeyboardInterrupt",
     "evalue": "",
     "output_type": "error",
     "traceback": [
      "\u001b[1;31m---------------------------------------------------------------------------\u001b[0m",
      "\u001b[1;31mKeyboardInterrupt\u001b[0m                         Traceback (most recent call last)",
      "\u001b[1;32m<ipython-input-243-4b4b6457d017>\u001b[0m in \u001b[0;36m<module>\u001b[1;34m\u001b[0m\n\u001b[0;32m     12\u001b[0m     \u001b[0mvec\u001b[0m \u001b[1;33m=\u001b[0m \u001b[0mmodel\u001b[0m\u001b[1;33m[\u001b[0m\u001b[0mt\u001b[0m\u001b[1;33m[\u001b[0m\u001b[1;34m'syohin_nm'\u001b[0m\u001b[1;33m]\u001b[0m\u001b[1;33m]\u001b[0m\u001b[1;33m\u001b[0m\u001b[1;33m\u001b[0m\u001b[0m\n\u001b[0;32m     13\u001b[0m     \u001b[1;32mif\u001b[0m \u001b[0mlen\u001b[0m\u001b[1;33m(\u001b[0m\u001b[0mvec\u001b[0m\u001b[1;33m)\u001b[0m \u001b[1;33m!=\u001b[0m \u001b[1;36m300\u001b[0m\u001b[1;33m:\u001b[0m \u001b[0mprint\u001b[0m\u001b[1;33m(\u001b[0m\u001b[1;34m\"300次元ではないベクトル\"\u001b[0m\u001b[1;33m)\u001b[0m\u001b[1;33m\u001b[0m\u001b[1;33m\u001b[0m\u001b[0m\n\u001b[1;32m---> 14\u001b[1;33m     \u001b[0mn2\u001b[0m \u001b[1;33m=\u001b[0m \u001b[0mnp\u001b[0m\u001b[1;33m.\u001b[0m\u001b[0mlinalg\u001b[0m\u001b[1;33m.\u001b[0m\u001b[0mnorm\u001b[0m\u001b[1;33m(\u001b[0m\u001b[0mvec\u001b[0m\u001b[1;33m)\u001b[0m\u001b[1;33m\u001b[0m\u001b[1;33m\u001b[0m\u001b[0m\n\u001b[0m\u001b[0;32m     15\u001b[0m     \u001b[1;32mif\u001b[0m \u001b[0mn2\u001b[0m \u001b[1;33m==\u001b[0m \u001b[1;36m0\u001b[0m \u001b[1;33m:\u001b[0m \u001b[0mn2\u001b[0m \u001b[1;33m=\u001b[0m \u001b[1;36m1\u001b[0m\u001b[1;33m\u001b[0m\u001b[1;33m\u001b[0m\u001b[0m\n\u001b[0;32m     16\u001b[0m     \u001b[0mc_model\u001b[0m\u001b[1;33m.\u001b[0m\u001b[0mappend\u001b[0m\u001b[1;33m(\u001b[0m\u001b[0mvec\u001b[0m\u001b[1;33m/\u001b[0m\u001b[0mn2\u001b[0m\u001b[1;33m)\u001b[0m\u001b[1;33m\u001b[0m\u001b[1;33m\u001b[0m\u001b[0m\n",
      "\u001b[1;32m<__array_function__ internals>\u001b[0m in \u001b[0;36mnorm\u001b[1;34m(*args, **kwargs)\u001b[0m\n",
      "\u001b[1;32m~\\anaconda3\\lib\\site-packages\\numpy\\linalg\\linalg.py\u001b[0m in \u001b[0;36mnorm\u001b[1;34m(x, ord, axis, keepdims)\u001b[0m\n\u001b[0;32m   2474\u001b[0m                 \u001b[0msqnorm\u001b[0m \u001b[1;33m=\u001b[0m \u001b[0mdot\u001b[0m\u001b[1;33m(\u001b[0m\u001b[0mx\u001b[0m\u001b[1;33m.\u001b[0m\u001b[0mreal\u001b[0m\u001b[1;33m,\u001b[0m \u001b[0mx\u001b[0m\u001b[1;33m.\u001b[0m\u001b[0mreal\u001b[0m\u001b[1;33m)\u001b[0m \u001b[1;33m+\u001b[0m \u001b[0mdot\u001b[0m\u001b[1;33m(\u001b[0m\u001b[0mx\u001b[0m\u001b[1;33m.\u001b[0m\u001b[0mimag\u001b[0m\u001b[1;33m,\u001b[0m \u001b[0mx\u001b[0m\u001b[1;33m.\u001b[0m\u001b[0mimag\u001b[0m\u001b[1;33m)\u001b[0m\u001b[1;33m\u001b[0m\u001b[1;33m\u001b[0m\u001b[0m\n\u001b[0;32m   2475\u001b[0m             \u001b[1;32melse\u001b[0m\u001b[1;33m:\u001b[0m\u001b[1;33m\u001b[0m\u001b[1;33m\u001b[0m\u001b[0m\n\u001b[1;32m-> 2476\u001b[1;33m                 \u001b[0msqnorm\u001b[0m \u001b[1;33m=\u001b[0m \u001b[0mdot\u001b[0m\u001b[1;33m(\u001b[0m\u001b[0mx\u001b[0m\u001b[1;33m,\u001b[0m \u001b[0mx\u001b[0m\u001b[1;33m)\u001b[0m\u001b[1;33m\u001b[0m\u001b[1;33m\u001b[0m\u001b[0m\n\u001b[0m\u001b[0;32m   2477\u001b[0m             \u001b[0mret\u001b[0m \u001b[1;33m=\u001b[0m \u001b[0msqrt\u001b[0m\u001b[1;33m(\u001b[0m\u001b[0msqnorm\u001b[0m\u001b[1;33m)\u001b[0m\u001b[1;33m\u001b[0m\u001b[1;33m\u001b[0m\u001b[0m\n\u001b[0;32m   2478\u001b[0m             \u001b[1;32mif\u001b[0m \u001b[0mkeepdims\u001b[0m\u001b[1;33m:\u001b[0m\u001b[1;33m\u001b[0m\u001b[1;33m\u001b[0m\u001b[0m\n",
      "\u001b[1;32m<__array_function__ internals>\u001b[0m in \u001b[0;36mdot\u001b[1;34m(*args, **kwargs)\u001b[0m\n",
      "\u001b[1;31mKeyboardInterrupt\u001b[0m: "
     ]
    }
   ],
   "source": [
    "te_df = pd.read_csv('data/自動分類正解カテゴリデータ.csv',sep = '\\t')\n",
    "model_path = './model/model_daily_300dim_20210518.bin'\n",
    "model = fasttext.load_model(model_path)    \n",
    "\n",
    "global ne_word_list\n",
    "global c_mat\n",
    "c_model = []\n",
    "ne_word_list = []\n",
    "\n",
    "\n",
    "for index,t in te_df.iterrows():            \n",
    "    vec = model[t['syohin_nm']]\n",
    "    if len(vec) != 300: print(\"300次元ではないベクトル\")\n",
    "    n2 = np.linalg.norm(vec)\n",
    "    if n2 == 0 : n2 = 1\n",
    "    c_model.append(vec/n2)\n",
    "    ne_word_list.append([t['id'],t['syohin_nm'],t['saibunrui_cd'],t['gyotai_dai_cd'],t['tanka'],t['count']])\n",
    "    \n",
    "    \n",
    "cc_model = np.array(c_model)\n",
    "c_mat = cc_model.reshape(t['id'], 300)\n",
    "del(c_model)\n",
    "del(cc_model)\n",
    "del(te_df)\n",
    "del(vec)"
   ]
  },
  {
   "cell_type": "markdown",
   "metadata": {},
   "source": [
    "#### 自動分類対象を取得"
   ]
  },
  {
   "cell_type": "code",
   "execution_count": null,
   "metadata": {},
   "outputs": [],
   "source": [
    "te_df"
   ]
  },
  {
   "cell_type": "code",
   "execution_count": 239,
   "metadata": {},
   "outputs": [],
   "source": [
    "all_items_pd = pd.read_csv('data/自動分類マスタ.csv',sep = '\\t')\n",
    "items_pd = all_items_pd[~all_items_pd['SYOHIN_NM'].isnull()].sample(1000)\n",
    "\n",
    "# こちらの処理は、CCCMK内では、autoed_saibunrui_cd = null のレコードを取得しています。　"
   ]
  },
  {
   "cell_type": "markdown",
   "metadata": {},
   "source": [
    "#### 類似度を使用したカテゴリの自動分類"
   ]
  },
  {
   "cell_type": "code",
   "execution_count": 241,
   "metadata": {},
   "outputs": [],
   "source": [
    "# 自動分類の処理件数\n",
    "output_number = 100\n",
    "write_data = []\n",
    "\n",
    "for index,rows in items_pd.iterrows():\n",
    "    target_word = rows['SYOHIN_NM']\n",
    "    target_gyotai_dai_cd = rows['GYOTAI_DAI_CD']\n",
    "    a_name = \"\"\n",
    "    match_flg = 0\n",
    "    \n",
    "    try:\n",
    "        a_name = unicodedata.normalize('NFKC', target_word ) #商品名の正規化\n",
    "    except:\n",
    "        continue\n",
    "\n",
    "    a_name = han2zen(a_name)\n",
    "    max_sim = 0\n",
    "    \n",
    "    # ターゲット商品名のベクトル化\n",
    "    v1 = np.array([])\n",
    "    v1 = model[a_name]\n",
    "    n1 = np.linalg.norm(v1)\n",
    "    c_v = np.array([])\n",
    "    c_v = (v1/n1).reshape(1,300)\n",
    "\n",
    "    # ベクトルの内積\n",
    "    calc_mat = []\n",
    "    calc_mat = np.dot(c_mat, c_v.transpose())\n",
    "    sort_array_index = np.argsort(calc_mat,axis = 0)[::-1]\n",
    "    result_index = \"\"\n",
    "\n",
    "    # スコアと業態の判定\n",
    "    for k in sort_array_index:\n",
    "        i = k[0]\n",
    "        \n",
    "        if ne_word_list[i][1] is None:\n",
    "            continue\n",
    "            \n",
    "        # 業態が A011 (外食)の場合は、カテゴリのコード体系が変わる　\n",
    "        # （外食：700000 系 & 90000系、それ以外 : 大分類700000系以外を使用）ため、処理を分岐しています。\n",
    "        if target_gyotai_dai_cd == 'A011':\n",
    "            if str(ne_word_list[i][2])[:1] != '7' and  str(ne_word_list[i][2])[:1] != '9' and  str(ne_word_list[i][2])[:1] != '0':\n",
    "                continue\n",
    "        else:\n",
    "            if str(ne_word_list[i][2])[:1] == '7':\n",
    "                continue\n",
    "        \n",
    "        # 業態大分類が空の場合は、非外食とみなして、スコア最大\n",
    "        if str(target_gyotai_dai_cd) == 'nan': \n",
    "            result_index = i\n",
    "            break\n",
    "        \n",
    "        # 業態大分類の一致の判定\n",
    "        if ne_word_list[i][3] == target_gyotai_dai_cd:\n",
    "            result_index = i\n",
    "            break\n",
    "    \n",
    "    score = calc_mat[result_index][0]\n",
    "    n_sim = '{:.2f}'.format(score)\n",
    "    s_word = ne_word_list[result_index][1]\n",
    "    s_saibunrui_cd = ne_word_list[result_index][2]\n",
    "    write_data.append([target_word,target_gyotai_dai_cd,s_word,n_sim,s_saibunrui_cd])\n",
    "\n",
    "    if len(write_data) >= output_number: break"
   ]
  },
  {
   "cell_type": "code",
   "execution_count": 237,
   "metadata": {},
   "outputs": [],
   "source": [
    "write_df = pd.DataFrame(write_data, columns = ['syohin_nm','gyotai_dai_cd','hit_word','score','saibunrui_cd'])"
   ]
  },
  {
   "cell_type": "markdown",
   "metadata": {},
   "source": [
    "#### アウトプットに関して\n",
    "\n",
    "CCCMK 社内では、アウトプットの結果をDBへ格納しています。\n",
    "（自動分類マスタのカテゴリ・スコア・ヒットしたワードを更新）\n",
    "\n",
    "POCの際は、結果はCSVへ出力いただいて問題ございません。"
   ]
  },
  {
   "cell_type": "code",
   "execution_count": null,
   "metadata": {},
   "outputs": [],
   "source": []
  }
 ],
 "metadata": {
  "anaconda-cloud": {},
  "jupytext": {
   "encoding": "# -*- coding: utf-8 -*-",
   "text_representation": {
    "extension": ".py",
    "format_name": "light",
    "format_version": "1.4",
    "jupytext_version": "1.1.7"
   }
  },
  "kernelspec": {
   "display_name": "Python 3 (ipykernel)",
   "language": "python",
   "name": "python3"
  },
  "language_info": {
   "codemirror_mode": {
    "name": "ipython",
    "version": 3
   },
   "file_extension": ".py",
   "mimetype": "text/x-python",
   "name": "python",
   "nbconvert_exporter": "python",
   "pygments_lexer": "ipython3",
   "version": "3.10.8"
  }
 },
 "nbformat": 4,
 "nbformat_minor": 4
}
