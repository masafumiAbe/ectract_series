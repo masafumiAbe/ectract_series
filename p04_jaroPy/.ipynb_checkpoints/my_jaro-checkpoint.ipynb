{
 "cells": [
  {
   "cell_type": "code",
   "execution_count": 1,
   "id": "1dd018e9",
   "metadata": {
    "tags": []
   },
   "outputs": [
    {
     "name": "stdout",
     "output_type": "stream",
     "text": [
      "3.9.13 | packaged by conda-forge | (main, May 27 2022, 17:01:00) \n",
      "[Clang 13.0.1 ]\n"
     ]
    }
   ],
   "source": [
    "import sys\n",
    "print(sys.version)"
   ]
  },
  {
   "cell_type": "code",
   "execution_count": 2,
   "id": "69f9157c",
   "metadata": {},
   "outputs": [],
   "source": [
    "import pandas as pd\n",
    "master_csv = pd.read_csv(filepath_or_buffer=\"mastersample_20220808.csv\", encoding=\"utf8\", sep=\",\")"
   ]
  },
  {
   "cell_type": "code",
   "execution_count": 3,
   "id": "0dd3d681",
   "metadata": {},
   "outputs": [
    {
     "name": "stdout",
     "output_type": "stream",
     "text": [
      "54285\n"
     ]
    }
   ],
   "source": [
    "print(master_csv.size)"
   ]
  },
  {
   "cell_type": "code",
   "execution_count": 4,
   "id": "e8427606",
   "metadata": {},
   "outputs": [
    {
     "name": "stdout",
     "output_type": "stream",
     "text": [
      "                JAN                        SHOSINM KANSU  \\\n",
      "0     9784083216039           劇場版　鬼滅の刃　無限列車編　ノベライズ   NaN   \n",
      "1     9784083215957       鬼滅の刃　ノベライズ～きょうだいの絆と鬼殺隊編～   NaN   \n",
      "2     9784083215858   鬼滅の刃　ノベライズ～炭治郎と禰豆子、運命のはじまり編～   NaN   \n",
      "3     9784092313293                   名探偵コナン　緋色の弾丸   NaN   \n",
      "4     9784046318404          四つ子ぐらし　ひみつの姉妹生活、スタート！     １   \n",
      "...             ...                            ...   ...   \n",
      "4930  9784323090788                 はじめての告白　ラブ・偏差値   NaN   \n",
      "4931  9784265063765                なぞの黒い杖　妖界ナビ・ルナ９   NaN   \n",
      "4932  9784591109557  いたずらまじょ子のプリンセスになりたいな　まじょ子２ｉｎ１   NaN   \n",
      "4933  9784001110548                    ジュンとひみつの友だち   NaN   \n",
      "4934  9784061475588                           坂本竜馬   NaN   \n",
      "\n",
      "                          SAKUHINNM DAIGENRENM CHUGENRENM SHOGENRENM  \\\n",
      "0              劇場版　鬼滅の刃　無限列車編　ノベライズ        児童書       児童文庫       児童文庫   \n",
      "1          鬼滅の刃　ノベライズ～きょうだいの絆と鬼殺隊編～        児童書       児童文庫       児童文庫   \n",
      "2      鬼滅の刃　ノベライズ～炭治郎と禰豆子、運命のはじまり編～        児童書       児童文庫       児童文庫   \n",
      "3                      名探偵コナン　緋色の弾丸        児童書       児童文庫       児童文庫   \n",
      "4                            四つ子ぐらし        児童書       児童文庫       児童文庫   \n",
      "...                             ...        ...        ...        ...   \n",
      "4930                 はじめての告白　ラブ・偏差値        児童書       児童文庫       児童文庫   \n",
      "4931                なぞの黒い杖　妖界ナビ・ルナ９        児童書       児童文庫       児童文庫   \n",
      "4932  いたずらまじょ子のプリンセスになりたいな　まじょ子２ｉｎ１        児童書       児童文庫       児童文庫   \n",
      "4933                    ジュンとひみつの友だち        児童書       児童文庫       児童文庫   \n",
      "4934                           坂本竜馬        児童書       児童文庫       児童文庫   \n",
      "\n",
      "     SIKIRIBANNM SHPNSHANM CHOSHANM     SOSHONM  \n",
      "0       集英社みらい文庫       集英社      矢島綾    集英社みらい文庫  \n",
      "1       集英社みらい文庫       集英社     松田朱夏    集英社みらい文庫  \n",
      "2       集英社みらい文庫       集英社     松田朱夏    集英社みらい文庫  \n",
      "3      小学館ジュニア文庫       小学館     水稀しま   小学館ジュニア文庫  \n",
      "4        角川つばさ文庫  ＫＡＤＯＫＡＷＡ    ひのひまり     角川つばさ文庫  \n",
      "...          ...       ...      ...         ...  \n",
      "4930       フォア文庫      金の星社     斉藤栄美       フォア文庫  \n",
      "4931       フォア文庫      岩崎書店    池田美代子       フォア文庫  \n",
      "4932   ポプラポケット文庫      ポプラ社     藤真知子   ポプラポケット文庫  \n",
      "4933      岩波少年文庫      岩波書店    佐藤さとる      岩波少年文庫  \n",
      "4934       火の鳥文庫       講談社      砂田弘  講談社火の鳥伝記文庫  \n",
      "\n",
      "[4935 rows x 11 columns]\n"
     ]
    }
   ],
   "source": [
    "print(master_csv)"
   ]
  },
  {
   "cell_type": "code",
   "execution_count": 5,
   "id": "09be85b5",
   "metadata": {},
   "outputs": [
    {
     "data": {
      "text/plain": [
       "0                劇場版　鬼滅の刃　無限列車編　ノベライズ\n",
       "1            鬼滅の刃　ノベライズ～きょうだいの絆と鬼殺隊編～\n",
       "2        鬼滅の刃　ノベライズ～炭治郎と禰豆子、運命のはじまり編～\n",
       "3                        名探偵コナン　緋色の弾丸\n",
       "4               四つ子ぐらし　ひみつの姉妹生活、スタート！\n",
       "                    ...              \n",
       "4930                   はじめての告白　ラブ・偏差値\n",
       "4931                  なぞの黒い杖　妖界ナビ・ルナ９\n",
       "4932    いたずらまじょ子のプリンセスになりたいな　まじょ子２ｉｎ１\n",
       "4933                      ジュンとひみつの友だち\n",
       "4934                             坂本竜馬\n",
       "Name: SHOSINM, Length: 4935, dtype: object"
      ]
     },
     "execution_count": 5,
     "metadata": {},
     "output_type": "execute_result"
    }
   ],
   "source": [
    "master_csv['SHOSINM']"
   ]
  },
  {
   "cell_type": "code",
   "execution_count": 6,
   "id": "9e672970",
   "metadata": {},
   "outputs": [],
   "source": [
    "def my_clean_space(strings):\n",
    "    result = []\n",
    "    for val in strings:\n",
    "        val = str(val)\n",
    "        val = \"\".join(val.split())\n",
    "        val = val[:15]\n",
    "        result.append(val)\n",
    "    return result \n",
    "\n",
    "input_jaro = my_clean_space(master_csv['SHOSINM'])"
   ]
  },
  {
   "cell_type": "code",
   "execution_count": 7,
   "id": "2d35c364",
   "metadata": {},
   "outputs": [],
   "source": [
    "import Levenshtein\n",
    "\n",
    "N = len(input_jaro)\n",
    "dist_vector = []\n",
    "for i in range(N - 1):\n",
    "    for j in range(i + 1, N):\n",
    "        dist_vector.append(Levenshtein.jaro(input_jaro[i], input_jaro[j]))"
   ]
  },
  {
   "cell_type": "code",
   "execution_count": 8,
   "id": "1973c6e5",
   "metadata": {},
   "outputs": [],
   "source": [
    "from scipy.cluster.hierarchy import linkage, dendrogram"
   ]
  },
  {
   "cell_type": "code",
   "execution_count": 9,
   "id": "77537274-2e82-40b3-a572-b103b870eeff",
   "metadata": {},
   "outputs": [],
   "source": [
    "hclust_result = linkage(dist_vector, method = 'ward')"
   ]
  },
  {
   "cell_type": "code",
   "execution_count": 10,
   "id": "e5089742-979e-4eba-ba5a-536049bd85c3",
   "metadata": {},
   "outputs": [],
   "source": [
    "import matplotlib.pyplot as plt"
   ]
  },
  {
   "cell_type": "code",
   "execution_count": 11,
   "id": "b413f574-231d-4589-9e20-26e0eac6838f",
   "metadata": {},
   "outputs": [
    {
     "data": {
      "image/png": "[encoded data removed]",
      "text/plain": [
       "<Figure size 640x480 with 1 Axes>"
      ]
     },
     "metadata": {},
     "output_type": "display_data"
    }
   ],
   "source": [
    "dendrogram(hclust_result)\n",
    "plt.show()"
   ]
  },
  {
   "cell_type": "code",
   "execution_count": 12,
   "id": "2561032b-a5f4-49fa-afdb-6165258173a9",
   "metadata": {},
   "outputs": [],
   "source": [
    "from scipy.cluster.hierarchy import fcluster\n",
    "cluster_id = fcluster(hclust_result, t = 1300, criterion = 'maxclust')"
   ]
  },
  {
   "cell_type": "code",
   "execution_count": 14,
   "id": "2050a410-5e67-4e85-bf51-e870fd6e16f8",
   "metadata": {},
   "outputs": [],
   "source": [
    "master_csv['cid'] = cluster_id"
   ]
  },
  {
   "cell_type": "code",
   "execution_count": 15,
   "id": "c780f517-3632-41cd-bb1a-94ca44eb51ff",
   "metadata": {},
   "outputs": [],
   "source": [
    "master_csv.to_csv('jaro_cluster.csv')"
   ]
  },
  {
   "cell_type": "code",
   "execution_count": null,
   "id": "3f8f4071-9fde-4c39-a68b-83796afe0563",
   "metadata": {},
   "outputs": [],
   "source": []
  }
 ],
 "metadata": {
  "kernelspec": {
   "display_name": "Python 3 (ipykernel)",
   "language": "python",
   "name": "python3"
  },
  "language_info": {
   "codemirror_mode": {
    "name": "ipython",
    "version": 3
   },
   "file_extension": ".py",
   "mimetype": "text/x-python",
   "name": "python",
   "nbconvert_exporter": "python",
   "pygments_lexer": "ipython3",
   "version": "3.9.13"
  }
 },
 "nbformat": 4,
 "nbformat_minor": 5
}
