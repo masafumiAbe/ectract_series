{
 "cells": [
  {
   "cell_type": "code",
   "execution_count": 1,
   "id": "339559c2-5b39-4d82-847b-761b1b0aae46",
   "metadata": {},
   "outputs": [],
   "source": [
    "import pandas as pd\n",
    "master_csv = pd.read_csv(filepath_or_buffer=\"jidosyo_gakusan_20230508_master.csv\", encoding=\"utf8\", sep=\",\")"
   ]
  },
  {
   "cell_type": "code",
   "execution_count": 2,
   "id": "eb65e62c-f46c-4b4d-a985-ebc7552ae2bb",
   "metadata": {},
   "outputs": [
    {
     "data": {
      "text/plain": [
       "0               サキヨミ！　トラブルまみれのデート作戦！\n",
       "1                チャート式解法と演習数学２＋Ｂ　新課程\n",
       "2      北辰のかこもん　数学　２０２２年度中３北辰テスト過去問題集\n",
       "3    ぜったいバレちゃいけません！！！　ハッピーエンドはゆずれない！\n",
       "4                     氷の上のプリンセス　シニア編\n",
       "Name: SHOSINM, dtype: object"
      ]
     },
     "execution_count": 2,
     "metadata": {},
     "output_type": "execute_result"
    }
   ],
   "source": [
    "df = master_csv['SHOSINM']\n",
    "df.head()"
   ]
  },
  {
   "cell_type": "code",
   "execution_count": 3,
   "id": "04196155-30d6-4817-811e-db3aba7524b7",
   "metadata": {},
   "outputs": [],
   "source": [
    "df.to_csv('jidosyo_gakusan__shosinm.csv')"
   ]
  },
  {
   "cell_type": "code",
   "execution_count": null,
   "id": "4b130718-585b-4594-8b15-9f75816877be",
   "metadata": {},
   "outputs": [],
   "source": []
  }
 ],
 "metadata": {
  "kernelspec": {
   "display_name": "Python 3 (ipykernel)",
   "language": "python",
   "name": "python3"
  },
  "language_info": {
   "codemirror_mode": {
    "name": "ipython",
    "version": 3
   },
   "file_extension": ".py",
   "mimetype": "text/x-python",
   "name": "python",
   "nbconvert_exporter": "python",
   "pygments_lexer": "ipython3",
   "version": "3.10.8"
  }
 },
 "nbformat": 4,
 "nbformat_minor": 5
}
