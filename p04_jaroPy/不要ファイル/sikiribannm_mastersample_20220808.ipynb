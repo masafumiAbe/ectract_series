{
 "cells": [
  {
   "cell_type": "code",
   "execution_count": 2,
   "id": "33f5f26b-5ba4-4586-97f7-f901a747212b",
   "metadata": {},
   "outputs": [],
   "source": [
    "import pandas as pd\n",
    "master_csv = pd.read_csv(filepath_or_buffer=\"mastersample_20220808.csv\", encoding=\"utf8\", sep=\",\")"
   ]
  },
  {
   "cell_type": "code",
   "execution_count": null,
   "id": "4199f163-b437-4513-aa11-0090af77de98",
   "metadata": {},
   "outputs": [],
   "source": [
    "# 1\n",
    "# 集英社みらい文庫\n",
    "\n",
    "# 2\n",
    "# カラフル文庫\n",
    "# その他児童文庫\n",
    "# フォア文庫\n",
    "\n",
    "# 3\n",
    "# ポプラポケット文庫\n",
    "# 火の鳥文庫\n",
    "# 岩波少年文庫\n",
    "\n",
    "# 4\n",
    "# 角川つばさ文庫\n",
    "\n",
    "# 5\n",
    "# 小学館ジュニア文庫\n",
    "\n",
    "# 6\n",
    "# 青い鳥文庫\n",
    "\n",
    "# 7\n",
    "# 静山社ペガサス文庫\n",
    "# 福音館文庫\n",
    "# 偕成社文庫"
   ]
  },
  {
   "cell_type": "code",
   "execution_count": 21,
   "id": "c4606e6c-1472-4c6a-a65d-6a5b339f735d",
   "metadata": {},
   "outputs": [
    {
     "name": "stdout",
     "output_type": "stream",
     "text": [
      "                JAN                             SHOSINM KANSU  \\\n",
      "52    9784065227503         カレンダー吸血鬼は知っている　探偵チームＫＺ事件ノート   NaN   \n",
      "56    9784065216309           初恋は知っている　砂原編　探偵チームＫＺ事件ノート   NaN   \n",
      "69    9784065239025          シンデレラ階段は知っている　探偵チームＫＺ事件ノート   NaN   \n",
      "109   9784065261002         心霊スポットは知っている　探偵チームＫＺスケッチブック   NaN   \n",
      "113   9784065203118          ブラック保健室は知っている　探偵チームＫＺ事件ノート   NaN   \n",
      "...             ...                                 ...   ...   \n",
      "4900  9784061485730                          坊っちゃんは名探偵！   NaN   \n",
      "4904  9784062851695  パスワードドードー鳥の罠　中学生編　パソコン通信探偵団事件ノート２３   NaN   \n",
      "4914  9784062854764                     初恋×１２歳　赤い実・はじけた   NaN   \n",
      "4917  9784062851961       時計塔の亡霊事件　お嬢様探偵ありすと少年執事ゆきとの事件簿   NaN   \n",
      "4923  9784061471351                           ハヤ号セイ川をいく   NaN   \n",
      "\n",
      "                               SAKUHINNM DAIGENRENM CHUGENRENM SHOGENRENM  \\\n",
      "52           カレンダー吸血鬼は知っている　探偵チームＫＺ事件ノート        児童書       児童文庫       児童文庫   \n",
      "56             初恋は知っている　砂原編　探偵チームＫＺ事件ノート        児童書       児童文庫       児童文庫   \n",
      "69            シンデレラ階段は知っている　探偵チームＫＺ事件ノート        児童書       児童文庫       児童文庫   \n",
      "109          心霊スポットは知っている　探偵チームＫＺスケッチブック        児童書       児童文庫       児童文庫   \n",
      "113           ブラック保健室は知っている　探偵チームＫＺ事件ノート        児童書       児童文庫       児童文庫   \n",
      "...                                  ...        ...        ...        ...   \n",
      "4900                          坊っちゃんは名探偵！        児童書       児童文庫       児童文庫   \n",
      "4904  パスワードドードー鳥の罠　中学生編　パソコン通信探偵団事件ノート２３        児童書       児童文庫       児童文庫   \n",
      "4914                     初恋×１２歳　赤い実・はじけた        児童書       児童文庫       児童文庫   \n",
      "4917       時計塔の亡霊事件　お嬢様探偵ありすと少年執事ゆきとの事件簿        児童書       児童文庫       児童文庫   \n",
      "4923                           ハヤ号セイ川をいく        児童書       児童文庫       児童文庫   \n",
      "\n",
      "     SIKIRIBANNM SHPNSHANM CHOSHANM   SOSHONM  \n",
      "52         青い鳥文庫       講談社      住滝良  講談社青い鳥文庫  \n",
      "56         青い鳥文庫       講談社      住滝良  講談社青い鳥文庫  \n",
      "69         青い鳥文庫       講談社      住滝良  講談社青い鳥文庫  \n",
      "109        青い鳥文庫       講談社      住滝良  講談社青い鳥文庫  \n",
      "113        青い鳥文庫       講談社    藤本ひとみ  講談社青い鳥文庫  \n",
      "...          ...       ...      ...       ...  \n",
      "4900       青い鳥文庫       講談社    楠木誠一郎  講談社青い鳥文庫  \n",
      "4904       青い鳥文庫       講談社     松原秀行  講談社青い鳥文庫  \n",
      "4914       青い鳥文庫       講談社    名木田恵子  講談社青い鳥文庫  \n",
      "4917       青い鳥文庫       講談社     藤野恵美  講談社青い鳥文庫  \n",
      "4923       青い鳥文庫       講談社    Ｐ．ピアス       NaN  \n",
      "\n",
      "[917 rows x 11 columns]\n",
      "917\n"
     ]
    }
   ],
   "source": [
    "# sikiribannm_csv = master_csv[(master_csv[\"SIKIRIBANNM\"] == \"静山社ペガサス文庫\") | (master_csv[\"SIKIRIBANNM\"] == \"福音館文庫\") | (master_csv[\"SIKIRIBANNM\"] == \"偕成社文庫\")]\n",
    "sikiribannm_csv = master_csv[master_csv[\"SIKIRIBANNM\"] == \"青い鳥文庫\"]\n",
    "print(sikiribannm_csv)\n",
    "print(len(sikiribannm_csv))"
   ]
  },
  {
   "cell_type": "code",
   "execution_count": 22,
   "id": "3244a920-fa96-4050-8ee5-8b42fa11a6c5",
   "metadata": {},
   "outputs": [],
   "source": [
    "sikiribannm_csv.to_csv('./sikiribannm_6.csv',header=True,index=False)"
   ]
  },
  {
   "cell_type": "code",
   "execution_count": null,
   "id": "f5a41801-bd13-41ef-a4cb-5d8df293841b",
   "metadata": {},
   "outputs": [],
   "source": []
  }
 ],
 "metadata": {
  "kernelspec": {
   "display_name": "Python 3 (ipykernel)",
   "language": "python",
   "name": "python3"
  },
  "language_info": {
   "codemirror_mode": {
    "name": "ipython",
    "version": 3
   },
   "file_extension": ".py",
   "mimetype": "text/x-python",
   "name": "python",
   "nbconvert_exporter": "python",
   "pygments_lexer": "ipython3",
   "version": "3.10.8"
  }
 },
 "nbformat": 4,
 "nbformat_minor": 5
}
